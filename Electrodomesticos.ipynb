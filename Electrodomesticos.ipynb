{
 "cells": [
  {
   "cell_type": "markdown",
   "metadata": {},
   "source": [
    "Electrodomesticos"
   ]
  },
  {
   "cell_type": "code",
   "execution_count": 22,
   "metadata": {},
   "outputs": [
    {
     "name": "stdout",
     "output_type": "stream",
     "text": [
      "La marca del electrodomestico es: Samsung, \n",
      "el modelo es: W901, \n",
      "el tipo de electrodomestico es: Refrigerador, \n",
      "el electrodmestico esta encendido: True, \n",
      "la temperatura del electrodomestico es normal: True, \n",
      "el refrigerador hace hielo: True\n",
      "La marca del electrodomestico es: IEM, \n",
      "el modelo es: L908, \n",
      "el tipo de electrodomestico es: Estufa, \n",
      "el electrodmestico esta encendido: True, \n",
      "las hornillas de la estufa estan encendidas: <bound method Estufa.encender_estufa of <__main__.Estufa object at 0x000001C586841A90>>, el horno de la estufa esta encendido: True. \n"
     ]
    }
   ],
   "source": [
    "class Electrodomestico():\n",
    "    def __init__(self, marca, modelo, tipo):\n",
    "        self.marca = marca\n",
    "        self.modelo = modelo\n",
    "        self.tipo = tipo\n",
    "        self.encendido = False\n",
    "\n",
    "    def electrodomestico_encendido(self, encender):\n",
    "        self.encendido = encender\n",
    "        if (self.encendido):\n",
    "            return f'Electrodomestico encendido'\n",
    "        else:\n",
    "            return f'Electrodomestico apagado'\n",
    "    def estado(self):\n",
    "        print(f'La marca del electrodomestico es: {self.marca}, \\nel modelo es: {self.modelo}, \\nel tipo de electrodomestico es: {self.tipo}, \\nel electrodmestico esta encendido: {self.encendido}, \\nla temperatura del electrodomestico es normal: {self.temperatura}, \\nel refrigerador hace hielo: {self.hielo}')\n",
    "        \n",
    "class Refrigerador(Electrodomestico):\n",
    "\n",
    "    def __init__(self, marca, modelo, tipo):\n",
    "        super().__init__(marca, modelo, tipo)\n",
    "        \n",
    "\n",
    "    def temperatura_refri(self, normal):\n",
    "        self.temperatura = normal\n",
    "        if (self.temperatura):\n",
    "            return f'La temperatura del refrigerador esta normal'\n",
    "        else:\n",
    "            return f'La temperatura del refrigerador es alta'\n",
    "    \n",
    "    def hacer_hielo(self, hielo):\n",
    "        self.hielo = hielo\n",
    "        if(self.hielo):\n",
    "            return f'Refrigerador hacer hielo'\n",
    "        else:\n",
    "            return f'Refrigerador sin hacer hielo'\n",
    "\n",
    "class Estufa(Electrodomestico):\n",
    "    def __init__(self, marca, modelo, tipo):\n",
    "        super().__init__(marca, modelo, tipo)\n",
    "\n",
    "    def encender_estufa(self, estufa):\n",
    "        self.encender_mecha = estufa\n",
    "        if(self.encender_mecha):\n",
    "            return f'La hornilla de la estufa esta encendida'\n",
    "        else:\n",
    "            return f'La honrilla de la estufa esta apagada'\n",
    "    def encender_horno(self, horno_encendido):\n",
    "        self.encender_horno = horno_encendido\n",
    "        if(self.encender_horno):\n",
    "            return f'El horno esta encendido'\n",
    "        else:\n",
    "            return f'El horno esta apagado'\n",
    "    def estado(self):\n",
    "        print(f'La marca del electrodomestico es: {self.marca}, \\nel modelo es: {self.modelo}, \\nel tipo de electrodomestico es: {self.tipo}, \\nel electrodmestico esta encendido: {self.encendido}, \\nlas hornillas de la estufa estan encendidas: {self.encender_estufa}, el horno de la estufa esta encendido: {self.encender_horno}. ')\n",
    "\n",
    "#Instancias refri\n",
    "MiRefri = Refrigerador('Samsung', 'W901', 'Refrigerador')\n",
    "MiRefri.electrodomestico_encendido(True)\n",
    "MiRefri.temperatura_refri(True)\n",
    "MiRefri.hacer_hielo(True)\n",
    "MiRefri.estado()\n",
    "\n",
    "#Instancias estufa\n",
    "MiEstufa = Estufa('IEM', 'L908', 'Estufa')\n",
    "MiEstufa.electrodomestico_encendido(True)\n",
    "MiEstufa.encender_estufa(True)\n",
    "MiEstufa.encender_horno(True)\n",
    "MiEstufa.estado()\n",
    "\n",
    "\n",
    "\n"
   ]
  }
 ],
 "metadata": {
  "kernelspec": {
   "display_name": "Python 3",
   "language": "python",
   "name": "python3"
  },
  "language_info": {
   "codemirror_mode": {
    "name": "ipython",
    "version": 3
   },
   "file_extension": ".py",
   "mimetype": "text/x-python",
   "name": "python",
   "nbconvert_exporter": "python",
   "pygments_lexer": "ipython3",
   "version": "3.9.4"
  },
  "orig_nbformat": 4
 },
 "nbformat": 4,
 "nbformat_minor": 2
}
