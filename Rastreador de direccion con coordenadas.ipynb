{
 "cells": [
  {
   "cell_type": "markdown",
   "metadata": {},
   "source": [
    "IP Tracker location"
   ]
  },
  {
   "cell_type": "code",
   "execution_count": 2,
   "metadata": {},
   "outputs": [
    {
     "name": "stdout",
     "output_type": "stream",
     "text": [
      "Collecting geopy\n",
      "  Obtaining dependency information for geopy from https://files.pythonhosted.org/packages/e1/58/9289c6a03116025cdb61461d99b2493daa4967a80b13755463d71a0affeb/geopy-2.4.0-py3-none-any.whl.metadata\n",
      "  Downloading geopy-2.4.0-py3-none-any.whl.metadata (6.8 kB)\n",
      "Collecting geographiclib<3,>=1.52 (from geopy)\n",
      "  Downloading geographiclib-2.0-py3-none-any.whl (40 kB)\n",
      "     -------------------------------------- 40.3/40.3 kB 640.1 kB/s eta 0:00:00\n",
      "Downloading geopy-2.4.0-py3-none-any.whl (125 kB)\n",
      "   ---------------------------------------- 125.4/125.4 kB 1.8 MB/s eta 0:00:00\n",
      "Installing collected packages: geographiclib, geopy\n",
      "Successfully installed geographiclib-2.0 geopy-2.4.0\n",
      "Note: you may need to restart the kernel to use updated packages.\n"
     ]
    }
   ],
   "source": [
    "pip install geopy"
   ]
  },
  {
   "cell_type": "code",
   "execution_count": 1,
   "metadata": {},
   "outputs": [],
   "source": [
    "import geopy\n"
   ]
  },
  {
   "cell_type": "code",
   "execution_count": 2,
   "metadata": {},
   "outputs": [],
   "source": [
    "from geopy.geocoders import Nominatim"
   ]
  },
  {
   "cell_type": "markdown",
   "metadata": {},
   "source": [
    "Este codigo saca las coordenadas de un lugar"
   ]
  },
  {
   "cell_type": "code",
   "execution_count": 3,
   "metadata": {},
   "outputs": [
    {
     "name": "stdout",
     "output_type": "stream",
     "text": [
      "Latitud: 28.6523808, Longitud: -106.0902046\n"
     ]
    }
   ],
   "source": [
    "#Creamos un objeto Nominatim\n",
    "mi_user = \"mi-applicacion\"\n",
    "\n",
    "geolocator = Nominatim(user_agent=mi_user)\n",
    "\n",
    "#Establecemos la ubicacion\n",
    "direccion = \"Chihuahua, Chihuahua\"\n",
    "ubicacion = geolocator.geocode(direccion)\n",
    "\n",
    "#Mostrar informacion  de las coordenadas\n",
    "if ubicacion:\n",
    "    print(f'Latitud: {ubicacion.latitude}, Longitud: {ubicacion.longitude}')\n",
    "else:\n",
    "    print('La direccion no pudo ser geododificada')\n"
   ]
  },
  {
   "cell_type": "markdown",
   "metadata": {},
   "source": [
    "Este codigo te da el lugar a traves de las coordenadas"
   ]
  },
  {
   "cell_type": "code",
   "execution_count": 4,
   "metadata": {},
   "outputs": [
    {
     "name": "stdout",
     "output_type": "stream",
     "text": [
      "Privada Décima Tercera, Chihuahua, Municipio de Chihuahua, Chihuahua, 31060, México\n",
      "Latitud: 28.63077706130571, Longitud: -106.05782459267803\n",
      "{'place_id': 305370104, 'licence': 'Data © OpenStreetMap contributors, ODbL 1.0. http://osm.org/copyright', 'osm_type': 'way', 'osm_id': 145512058, 'lat': '28.63077706130571', 'lon': '-106.05782459267803', 'class': 'highway', 'type': 'residential', 'place_rank': 26, 'importance': 0.10000999999999993, 'addresstype': 'road', 'name': 'Privada Décima Tercera', 'display_name': 'Privada Décima Tercera, Chihuahua, Municipio de Chihuahua, Chihuahua, 31060, México', 'address': {'road': 'Privada Décima Tercera', 'city': 'Chihuahua', 'county': 'Municipio de Chihuahua', 'state': 'Chihuahua', 'ISO3166-2-lvl4': 'MX-CHH', 'postcode': '31060', 'country': 'México', 'country_code': 'mx'}, 'boundingbox': ['28.6305527', '28.6309066', '-106.0581327', '-106.0574074']}\n"
     ]
    }
   ],
   "source": [
    "mi_user2 = 'mi-aplicacion'\n",
    "geolocator = Nominatim(user_agent =mi_user2)\n",
    "\n",
    "ubicacion = geolocator.reverse('28.63062752509109, -106.057905011492')\n",
    "print(ubicacion.address)\n",
    "\n",
    "print(f'Latitud: {ubicacion.latitude}, Longitud: {ubicacion.longitude}')\n",
    "print(ubicacion.raw)"
   ]
  },
  {
   "cell_type": "markdown",
   "metadata": {},
   "source": [
    "Rastreador de direccion ip"
   ]
  },
  {
   "cell_type": "code",
   "execution_count": 5,
   "metadata": {},
   "outputs": [
    {
     "name": "stdout",
     "output_type": "stream",
     "text": [
      "Requirement already satisfied: ipinfo in c:\\users\\cross\\appdata\\local\\programs\\python\\python39\\lib\\site-packages (4.4.2)Note: you may need to restart the kernel to use updated packages.\n",
      "Requirement already satisfied: aiohttp<=4 in c:\\users\\cross\\appdata\\local\\programs\\python\\python39\\lib\\site-packages (from ipinfo) (3.8.5)\n",
      "Requirement already satisfied: cachetools in c:\\users\\cross\\appdata\\local\\programs\\python\\python39\\lib\\site-packages (from ipinfo) (5.3.1)\n",
      "Requirement already satisfied: requests in c:\\users\\cross\\appdata\\local\\programs\\python\\python39\\lib\\site-packages (from ipinfo) (2.31.0)\n",
      "Requirement already satisfied: attrs>=17.3.0 in c:\\users\\cross\\appdata\\local\\programs\\python\\python39\\lib\\site-packages (from aiohttp<=4->ipinfo) (20.3.0)\n",
      "Requirement already satisfied: charset-normalizer<4.0,>=2.0 in c:\\users\\cross\\appdata\\local\\programs\\python\\python39\\lib\\site-packages (from aiohttp<=4->ipinfo) (3.2.0)\n",
      "Requirement already satisfied: multidict<7.0,>=4.5 in c:\\users\\cross\\appdata\\local\\programs\\python\\python39\\lib\\site-packages (from aiohttp<=4->ipinfo) (6.0.4)\n",
      "Requirement already satisfied: async-timeout<5.0,>=4.0.0a3 in c:\\users\\cross\\appdata\\local\\programs\\python\\python39\\lib\\site-packages (from aiohttp<=4->ipinfo) (4.0.3)\n",
      "Requirement already satisfied: yarl<2.0,>=1.0 in c:\\users\\cross\\appdata\\local\\programs\\python\\python39\\lib\\site-packages (from aiohttp<=4->ipinfo) (1.9.2)\n",
      "Requirement already satisfied: frozenlist>=1.1.1 in c:\\users\\cross\\appdata\\local\\programs\\python\\python39\\lib\\site-packages (from aiohttp<=4->ipinfo) (1.4.0)\n",
      "Requirement already satisfied: aiosignal>=1.1.2 in c:\\users\\cross\\appdata\\local\\programs\\python\\python39\\lib\\site-packages (from aiohttp<=4->ipinfo) (1.3.1)\n",
      "Requirement already satisfied: idna<4,>=2.5 in c:\\users\\cross\\appdata\\local\\programs\\python\\python39\\lib\\site-packages (from requests->ipinfo) (3.4)\n",
      "Requirement already satisfied: urllib3<3,>=1.21.1 in c:\\users\\cross\\appdata\\local\\programs\\python\\python39\\lib\\site-packages (from requests->ipinfo) (2.0.4)\n",
      "Requirement already satisfied: certifi>=2017.4.17 in c:\\users\\cross\\appdata\\local\\programs\\python\\python39\\lib\\site-packages (from requests->ipinfo) (2023.5.7)\n",
      "\n"
     ]
    }
   ],
   "source": [
    "pip install ipinfo #instalacion del paquete de ipinfo para las direcciones ip"
   ]
  },
  {
   "cell_type": "code",
   "execution_count": 15,
   "metadata": {},
   "outputs": [
    {
     "name": "stdout",
     "output_type": "stream",
     "text": [
      "Chihuahua\n",
      "28.6353,-106.0889\n",
      "MX\n",
      "Mexico\n"
     ]
    }
   ],
   "source": [
    "from geopy.geocoders import Nominatim\n",
    "from ipinfo import getHandler\n",
    "\n",
    "mi_user3 = 'mi-aplicacion' #Siempre definir el usuario de la aplicacion\n",
    "\n",
    "geolocator = Nominatim(user_agent=mi_user3)\n",
    "\n",
    "direccion_ip = \"177.236.11.66\"\n",
    "access_token = 'b030d6ad0d62b6' #Siempre necesitamos un acces token debido a que no es legal usar los ips de esta manera, por eso debeos acceder a la pagina de ipinfo\n",
    "handler = getHandler(access_token)\n",
    "details = handler.getDetails(direccion_ip)\n",
    "print(details.city)\n",
    "print(details.loc)\n",
    "print(details.country)\n",
    "print(details.country_name)\n",
    "\n"
   ]
  }
 ],
 "metadata": {
  "kernelspec": {
   "display_name": "Python 3",
   "language": "python",
   "name": "python3"
  },
  "language_info": {
   "codemirror_mode": {
    "name": "ipython",
    "version": 3
   },
   "file_extension": ".py",
   "mimetype": "text/x-python",
   "name": "python",
   "nbconvert_exporter": "python",
   "pygments_lexer": "ipython3",
   "version": "3.9.4"
  },
  "orig_nbformat": 4
 },
 "nbformat": 4,
 "nbformat_minor": 2
}
